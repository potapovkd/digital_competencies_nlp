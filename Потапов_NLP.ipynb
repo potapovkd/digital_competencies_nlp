{
 "cells": [
  {
   "cell_type": "code",
   "execution_count": 357,
   "id": "b3bfbb00",
   "metadata": {},
   "outputs": [],
   "source": [
    "import warnings\n",
    "warnings.filterwarnings(\"ignore\")"
   ]
  },
  {
   "cell_type": "code",
   "execution_count": 358,
   "id": "5de191ff",
   "metadata": {},
   "outputs": [
    {
     "name": "stderr",
     "output_type": "stream",
     "text": [
      "[nltk_data] Downloading package punkt to\n",
      "[nltk_data]     C:\\Users\\potkd\\AppData\\Roaming\\nltk_data...\n",
      "[nltk_data]   Package punkt is already up-to-date!\n",
      "[nltk_data] Downloading package wordnet to\n",
      "[nltk_data]     C:\\Users\\potkd\\AppData\\Roaming\\nltk_data...\n",
      "[nltk_data]   Package wordnet is already up-to-date!\n",
      "[nltk_data] Downloading package omw-1.4 to\n",
      "[nltk_data]     C:\\Users\\potkd\\AppData\\Roaming\\nltk_data...\n",
      "[nltk_data]   Package omw-1.4 is already up-to-date!\n",
      "[nltk_data] Downloading package stopwords to\n",
      "[nltk_data]     C:\\Users\\potkd\\AppData\\Roaming\\nltk_data...\n",
      "[nltk_data]   Package stopwords is already up-to-date!\n"
     ]
    }
   ],
   "source": [
    "import pandas as pd\n",
    "import numpy as np\n",
    "import re\n",
    "import nltk\n",
    "nltk.download('punkt')\n",
    "nltk.download('wordnet')\n",
    "nltk.download('omw-1.4')\n",
    "from pymystem3 import Mystem\n",
    "nltk.download('stopwords')\n",
    "from sklearn.feature_extraction.text import CountVectorizer\n",
    "from sklearn.model_selection import train_test_split\n",
    "from sklearn.naive_bayes import GaussianNB\n",
    "from sklearn import svm\n",
    "from itertools import groupby"
   ]
  },
  {
   "cell_type": "code",
   "execution_count": 359,
   "id": "b53a03dc",
   "metadata": {},
   "outputs": [],
   "source": [
    "pd.options.display.max_colwidth = 100"
   ]
  },
  {
   "cell_type": "code",
   "execution_count": 360,
   "id": "06ef6903",
   "metadata": {},
   "outputs": [],
   "source": [
    "data = pd.read_excel('data.xlsx')"
   ]
  },
  {
   "cell_type": "code",
   "execution_count": 361,
   "id": "55a2decd",
   "metadata": {
    "scrolled": false
   },
   "outputs": [
    {
     "data": {
      "text/html": [
       "<div>\n",
       "<style scoped>\n",
       "    .dataframe tbody tr th:only-of-type {\n",
       "        vertical-align: middle;\n",
       "    }\n",
       "\n",
       "    .dataframe tbody tr th {\n",
       "        vertical-align: top;\n",
       "    }\n",
       "\n",
       "    .dataframe thead th {\n",
       "        text-align: right;\n",
       "    }\n",
       "</style>\n",
       "<table border=\"1\" class=\"dataframe\">\n",
       "  <thead>\n",
       "    <tr style=\"text-align: right;\">\n",
       "      <th></th>\n",
       "      <th>plan_name</th>\n",
       "      <th>kod</th>\n",
       "      <th>text</th>\n",
       "    </tr>\n",
       "  </thead>\n",
       "  <tbody>\n",
       "    <tr>\n",
       "      <th>0</th>\n",
       "      <td>01.03.02_2023_ПМ_ПМиИвЭиУ_ОФО</td>\n",
       "      <td>УК-1</td>\n",
       "      <td>Способен осуществлять поиск, критический анализ и синтез информации, применять системный подход ...</td>\n",
       "    </tr>\n",
       "    <tr>\n",
       "      <th>1</th>\n",
       "      <td>01.03.02_2023_ПМ_ПМиИвЭиУ_ОФО</td>\n",
       "      <td>УК-1.1</td>\n",
       "      <td>Осуществляет поиск необходимой информации, опираясь на результаты анализа поставленной задачи</td>\n",
       "    </tr>\n",
       "    <tr>\n",
       "      <th>2</th>\n",
       "      <td>01.03.02_2023_ПМ_ПМиИвЭиУ_ОФО</td>\n",
       "      <td>УК-1.2</td>\n",
       "      <td>Разрабатывает варианты решения проблемной ситуации на основе критического анализа доступных исто...</td>\n",
       "    </tr>\n",
       "    <tr>\n",
       "      <th>3</th>\n",
       "      <td>01.03.02_2023_ПМ_ПМиИвЭиУ_ОФО</td>\n",
       "      <td>УК-1.3</td>\n",
       "      <td>Выбирает оптимальный вариант решения задачи, аргументируя свой выбор</td>\n",
       "    </tr>\n",
       "    <tr>\n",
       "      <th>4</th>\n",
       "      <td>01.03.02_2023_ПМ_ПМиИвЭиУ_ОФО</td>\n",
       "      <td>УК-2</td>\n",
       "      <td>Способен определять круг задач в рамках поставленной цели и выбирать оптимальные способы их реше...</td>\n",
       "    </tr>\n",
       "    <tr>\n",
       "      <th>...</th>\n",
       "      <td>...</td>\n",
       "      <td>...</td>\n",
       "      <td>...</td>\n",
       "    </tr>\n",
       "    <tr>\n",
       "      <th>4130</th>\n",
       "      <td>45.03.02_2023_Л_ПиПвСЭиФФЯ_О_01</td>\n",
       "      <td>ПК-3.1</td>\n",
       "      <td>Применяет адекватные стратегии перевода и техники компрессии при осуществлении устного профессио...</td>\n",
       "    </tr>\n",
       "    <tr>\n",
       "      <th>4131</th>\n",
       "      <td>45.03.02_2023_Л_ПиПвСЭиФФЯ_О_01</td>\n",
       "      <td>ПК-3.2</td>\n",
       "      <td>Умеет использовать вербальные и невербальные средства языка в зависимости от\\nкультурологическог...</td>\n",
       "    </tr>\n",
       "    <tr>\n",
       "      <th>4132</th>\n",
       "      <td>45.03.02_2023_Л_ПиПвСЭиФФЯ_О_01</td>\n",
       "      <td>ПК-4</td>\n",
       "      <td>Способен осуществлять организацию управления качеством перевода</td>\n",
       "    </tr>\n",
       "    <tr>\n",
       "      <th>4133</th>\n",
       "      <td>45.03.02_2023_Л_ПиПвСЭиФФЯ_О_01</td>\n",
       "      <td>ПК-4.1</td>\n",
       "      <td>Умеет проводить экспертизу устного и письменного перевода, в том числе документации, и давать эк...</td>\n",
       "    </tr>\n",
       "    <tr>\n",
       "      <th>4134</th>\n",
       "      <td>45.03.02_2023_Л_ПиПвСЭиФФЯ_О_01</td>\n",
       "      <td>ПК-4.2</td>\n",
       "      <td>Умеет обрабатывать и анализировать данные в специализированном программной обеспечении, применяе...</td>\n",
       "    </tr>\n",
       "  </tbody>\n",
       "</table>\n",
       "<p>4135 rows × 3 columns</p>\n",
       "</div>"
      ],
      "text/plain": [
       "                            plan_name     kod  \\\n",
       "0       01.03.02_2023_ПМ_ПМиИвЭиУ_ОФО    УК-1   \n",
       "1       01.03.02_2023_ПМ_ПМиИвЭиУ_ОФО  УК-1.1   \n",
       "2       01.03.02_2023_ПМ_ПМиИвЭиУ_ОФО  УК-1.2   \n",
       "3       01.03.02_2023_ПМ_ПМиИвЭиУ_ОФО  УК-1.3   \n",
       "4       01.03.02_2023_ПМ_ПМиИвЭиУ_ОФО    УК-2   \n",
       "...                               ...     ...   \n",
       "4130  45.03.02_2023_Л_ПиПвСЭиФФЯ_О_01  ПК-3.1   \n",
       "4131  45.03.02_2023_Л_ПиПвСЭиФФЯ_О_01  ПК-3.2   \n",
       "4132  45.03.02_2023_Л_ПиПвСЭиФФЯ_О_01    ПК-4   \n",
       "4133  45.03.02_2023_Л_ПиПвСЭиФФЯ_О_01  ПК-4.1   \n",
       "4134  45.03.02_2023_Л_ПиПвСЭиФФЯ_О_01  ПК-4.2   \n",
       "\n",
       "                                                                                                     text  \n",
       "0     Способен осуществлять поиск, критический анализ и синтез информации, применять системный подход ...  \n",
       "1           Осуществляет поиск необходимой информации, опираясь на результаты анализа поставленной задачи  \n",
       "2     Разрабатывает варианты решения проблемной ситуации на основе критического анализа доступных исто...  \n",
       "3                                    Выбирает оптимальный вариант решения задачи, аргументируя свой выбор  \n",
       "4     Способен определять круг задач в рамках поставленной цели и выбирать оптимальные способы их реше...  \n",
       "...                                                                                                   ...  \n",
       "4130  Применяет адекватные стратегии перевода и техники компрессии при осуществлении устного профессио...  \n",
       "4131  Умеет использовать вербальные и невербальные средства языка в зависимости от\\nкультурологическог...  \n",
       "4132                                      Способен осуществлять организацию управления качеством перевода  \n",
       "4133  Умеет проводить экспертизу устного и письменного перевода, в том числе документации, и давать эк...  \n",
       "4134  Умеет обрабатывать и анализировать данные в специализированном программной обеспечении, применяе...  \n",
       "\n",
       "[4135 rows x 3 columns]"
      ]
     },
     "execution_count": 361,
     "metadata": {},
     "output_type": "execute_result"
    }
   ],
   "source": [
    "data"
   ]
  },
  {
   "cell_type": "markdown",
   "id": "6d7a4b56",
   "metadata": {},
   "source": [
    "### Сервис для препроцессинга"
   ]
  },
  {
   "cell_type": "code",
   "execution_count": 362,
   "id": "50237151",
   "metadata": {},
   "outputs": [],
   "source": [
    "class PreprocessingService:\n",
    "    \n",
    "    CLASS_1 = [\n",
    "    'Применяет прикладное программное обеспечение для решения профессиональных задач',\n",
    "    'Применяет современные инструментальные средства и языки программирования для решения задач интеллектуального анализа данных',\n",
    "    'Знает основные стандарты оформления технической документации на различных стадиях жизненного цикла информационной системы',\n",
    "    'Имеет навыки внедрения искусственного интеллекта в управление цифровыми платформами',\n",
    "    'Умеет разрабатывать мобильные приложения',\n",
    "    'Способен разрабатывать алгоритмы и компьютерные программы, пригодные для практического применения',\n",
    "    'Способен проектировать программное обеспечение для информационно-коммуникационных систем'\n",
    "    ]\n",
    "    \n",
    "    CLASS_0 = [\n",
    "    'Способен осуществлять социальное взаимодействие и реализовывать свою роль в команде',\n",
    "    'Понимает основные аспекты межличностных и групповых коммуникаций',\n",
    "    'Применяет методы командного взаимодействия',\n",
    "    'Способен осуществлять деловую коммуникацию в устной и письменной формах на государственном языке Российской Федерации и иностранном(ых) языке(ах)',\n",
    "    'Способен воспринимать межкультурное разнообразие общества в социально-историческом, этическом и философском контекстах',\n",
    "    'Проявляет в своем поведении уважительное отношение к историческому наследию и социокультурным традициям различных социальных групп, опирающееся на знание этапов исторического развития России в контексте мировой истории и культурных традиций мира',\n",
    "    'Способен принимать обоснованные экономические решения в различных областях жизнедеятельности'\n",
    "    ]\n",
    "    \n",
    "    UNION_STOPWORDS_SET = {'знать', 'иметь', 'проявлять', 'способный', 'принимать', 'применять'}\n",
    "    \n",
    "    def __init__(self, df, column_text='text', column_class='class', status='inference', vectorizer=None):\n",
    "        _df = df.copy()\n",
    "        self.df = _df\n",
    "        self.column_text = column_text\n",
    "        self.column_class = column_class\n",
    "        self.status = status\n",
    "        self.vectorizer = vectorizer\n",
    "        self.class_1 = self.CLASS_1\n",
    "        self.class_0 = self.CLASS_0\n",
    "        self.union_stopwords_set = self.UNION_STOPWORDS_SET\n",
    "        \n",
    "    def _classifier(self, row):\n",
    "        \n",
    "        if row[self.column_text] in self.class_1:\n",
    "            val = 1\n",
    "        \n",
    "        elif row[self.column_text] in self.class_0:\n",
    "            val = 0\n",
    "\n",
    "        else:\n",
    "            val = np.nan\n",
    "    \n",
    "        return val\n",
    "    \n",
    "    def _get_stopwords(self):\n",
    "        \n",
    "        stopwords = set(nltk.corpus.stopwords.words('russian'))\n",
    "        stopwords = stopwords.union(self.union_stopwords_set)\n",
    "        \n",
    "        return stopwords\n",
    "        \n",
    "    \n",
    "    def _lemmatization_massive(self, texts):\n",
    "        \n",
    "        alltexts  = '' \n",
    "        for txt in texts:\n",
    "            alltexts = alltexts + ' brake ' + txt\n",
    "        alltexts = Mystem().lemmatize(alltexts)\n",
    "        alltexts = list(filter((' ').__ne__, alltexts))\n",
    "        alltexts = list(filter(('\\n').__ne__, alltexts))\n",
    "        \n",
    "        return [' '.join(list(g)) for k, g in groupby(alltexts, key=lambda x: x != \"brake\") if k]\n",
    "    \n",
    "    def _get_matrix(self, series, vectorizer):\n",
    "        \n",
    "        text = series[self.column_text].tolist()\n",
    "        \n",
    "        if self.status == 'train': \n",
    "            matrix = vectorizer.fit_transform(text).toarray()\n",
    "        else:\n",
    "            matrix = vectorizer.transform(text).toarray()\n",
    "        \n",
    "        return matrix\n",
    "        \n",
    "    \n",
    "    def run(self):\n",
    "        if self.status == 'train':\n",
    "            self.df[self.column_class] = self.df.apply(self._classifier, axis=1)\n",
    "            self.df = self.df[~self.df[self.column_class].isna()]\n",
    "            # self.df = self.df.groupby(self.column_text).mean().reset_index()[[self.column_text, self.column_class]]\n",
    "            # при группировке (по сути удалению дубликатов) по столбцу с текстом проседает метрика при обучении \n",
    "            # цифры при инференсе на всём датасете становятся, мой взгляд, менее реалистичными, так как сдаётся мне \n",
    "            # цифровых компетенций существенно меньше всех прочих\n",
    "            # если не группировать получаем высокое качество на обучении и опять же, на мой взгляд, более реальные цифры\n",
    "            # для всего датасета, при том что по сути модели никаких новых уникальных данных не получают\n",
    "            # в любом случае было бы хорошо в ручную разметить большую часть датасета\n",
    "        self.df[self.column_text] = self.df[self.column_text].apply(lambda x: re.sub(\"[^А-Яа-яЁё ]+\", \" \", x).lower())\n",
    "        self.df[self.column_text] = self._lemmatization_massive(self.df[self.column_text].tolist())\n",
    "        self.df[self.column_text] = self.df[self.column_text].apply(lambda x: nltk.word_tokenize(x, language = \"russian\"))\n",
    "        stopwords = self._get_stopwords()\n",
    "        self.df[self.column_text] = self.df[self.column_text].apply(lambda x: [t for t in x if t not in stopwords])\n",
    "        self.df[self.column_text] = self.df[self.column_text].apply(lambda x: ' '.join(x))\n",
    "        if self.status == 'train':\n",
    "            vectorizer = CountVectorizer(stop_words=list(stopwords))\n",
    "        else:\n",
    "            vectorizer = self.vectorizer\n",
    "        matrix = self._get_matrix(self.df, vectorizer)\n",
    "        if self.status == 'train':\n",
    "            X = matrix\n",
    "            y = self.df[self.column_class]\n",
    "            X_train, X_test, y_train, y_test = train_test_split(X, y, train_size=0.7, random_state=42)\n",
    "            return vectorizer, X_train, X_test, y_train, y_test\n",
    "        else:\n",
    "            X = matrix\n",
    "            return X"
   ]
  },
  {
   "cell_type": "markdown",
   "id": "a37dfedb",
   "metadata": {},
   "source": [
    "### Обучение моделей"
   ]
  },
  {
   "cell_type": "code",
   "execution_count": 363,
   "id": "96857ebd",
   "metadata": {
    "scrolled": true
   },
   "outputs": [],
   "source": [
    "preprocessing = PreprocessingService(df=data, status='train')\n",
    "vectorizer, X_train, X_test, y_train, y_test = preprocessing.run()"
   ]
  },
  {
   "cell_type": "code",
   "execution_count": 364,
   "id": "35deed76",
   "metadata": {},
   "outputs": [
    {
     "data": {
      "text/html": [
       "<div>\n",
       "<style scoped>\n",
       "    .dataframe tbody tr th:only-of-type {\n",
       "        vertical-align: middle;\n",
       "    }\n",
       "\n",
       "    .dataframe tbody tr th {\n",
       "        vertical-align: top;\n",
       "    }\n",
       "\n",
       "    .dataframe thead th {\n",
       "        text-align: right;\n",
       "    }\n",
       "</style>\n",
       "<table border=\"1\" class=\"dataframe\">\n",
       "  <thead>\n",
       "    <tr style=\"text-align: right;\">\n",
       "      <th></th>\n",
       "      <th>plan_name</th>\n",
       "      <th>kod</th>\n",
       "      <th>text</th>\n",
       "    </tr>\n",
       "  </thead>\n",
       "  <tbody>\n",
       "    <tr>\n",
       "      <th>0</th>\n",
       "      <td>01.03.02_2023_ПМ_ПМиИвЭиУ_ОФО</td>\n",
       "      <td>УК-1</td>\n",
       "      <td>Способен осуществлять поиск, критический анализ и синтез информации, применять системный подход ...</td>\n",
       "    </tr>\n",
       "    <tr>\n",
       "      <th>1</th>\n",
       "      <td>01.03.02_2023_ПМ_ПМиИвЭиУ_ОФО</td>\n",
       "      <td>УК-1.1</td>\n",
       "      <td>Осуществляет поиск необходимой информации, опираясь на результаты анализа поставленной задачи</td>\n",
       "    </tr>\n",
       "    <tr>\n",
       "      <th>2</th>\n",
       "      <td>01.03.02_2023_ПМ_ПМиИвЭиУ_ОФО</td>\n",
       "      <td>УК-1.2</td>\n",
       "      <td>Разрабатывает варианты решения проблемной ситуации на основе критического анализа доступных исто...</td>\n",
       "    </tr>\n",
       "    <tr>\n",
       "      <th>3</th>\n",
       "      <td>01.03.02_2023_ПМ_ПМиИвЭиУ_ОФО</td>\n",
       "      <td>УК-1.3</td>\n",
       "      <td>Выбирает оптимальный вариант решения задачи, аргументируя свой выбор</td>\n",
       "    </tr>\n",
       "    <tr>\n",
       "      <th>4</th>\n",
       "      <td>01.03.02_2023_ПМ_ПМиИвЭиУ_ОФО</td>\n",
       "      <td>УК-2</td>\n",
       "      <td>Способен определять круг задач в рамках поставленной цели и выбирать оптимальные способы их реше...</td>\n",
       "    </tr>\n",
       "    <tr>\n",
       "      <th>...</th>\n",
       "      <td>...</td>\n",
       "      <td>...</td>\n",
       "      <td>...</td>\n",
       "    </tr>\n",
       "    <tr>\n",
       "      <th>4130</th>\n",
       "      <td>45.03.02_2023_Л_ПиПвСЭиФФЯ_О_01</td>\n",
       "      <td>ПК-3.1</td>\n",
       "      <td>Применяет адекватные стратегии перевода и техники компрессии при осуществлении устного профессио...</td>\n",
       "    </tr>\n",
       "    <tr>\n",
       "      <th>4131</th>\n",
       "      <td>45.03.02_2023_Л_ПиПвСЭиФФЯ_О_01</td>\n",
       "      <td>ПК-3.2</td>\n",
       "      <td>Умеет использовать вербальные и невербальные средства языка в зависимости от\\nкультурологическог...</td>\n",
       "    </tr>\n",
       "    <tr>\n",
       "      <th>4132</th>\n",
       "      <td>45.03.02_2023_Л_ПиПвСЭиФФЯ_О_01</td>\n",
       "      <td>ПК-4</td>\n",
       "      <td>Способен осуществлять организацию управления качеством перевода</td>\n",
       "    </tr>\n",
       "    <tr>\n",
       "      <th>4133</th>\n",
       "      <td>45.03.02_2023_Л_ПиПвСЭиФФЯ_О_01</td>\n",
       "      <td>ПК-4.1</td>\n",
       "      <td>Умеет проводить экспертизу устного и письменного перевода, в том числе документации, и давать эк...</td>\n",
       "    </tr>\n",
       "    <tr>\n",
       "      <th>4134</th>\n",
       "      <td>45.03.02_2023_Л_ПиПвСЭиФФЯ_О_01</td>\n",
       "      <td>ПК-4.2</td>\n",
       "      <td>Умеет обрабатывать и анализировать данные в специализированном программной обеспечении, применяе...</td>\n",
       "    </tr>\n",
       "  </tbody>\n",
       "</table>\n",
       "<p>4135 rows × 3 columns</p>\n",
       "</div>"
      ],
      "text/plain": [
       "                            plan_name     kod  \\\n",
       "0       01.03.02_2023_ПМ_ПМиИвЭиУ_ОФО    УК-1   \n",
       "1       01.03.02_2023_ПМ_ПМиИвЭиУ_ОФО  УК-1.1   \n",
       "2       01.03.02_2023_ПМ_ПМиИвЭиУ_ОФО  УК-1.2   \n",
       "3       01.03.02_2023_ПМ_ПМиИвЭиУ_ОФО  УК-1.3   \n",
       "4       01.03.02_2023_ПМ_ПМиИвЭиУ_ОФО    УК-2   \n",
       "...                               ...     ...   \n",
       "4130  45.03.02_2023_Л_ПиПвСЭиФФЯ_О_01  ПК-3.1   \n",
       "4131  45.03.02_2023_Л_ПиПвСЭиФФЯ_О_01  ПК-3.2   \n",
       "4132  45.03.02_2023_Л_ПиПвСЭиФФЯ_О_01    ПК-4   \n",
       "4133  45.03.02_2023_Л_ПиПвСЭиФФЯ_О_01  ПК-4.1   \n",
       "4134  45.03.02_2023_Л_ПиПвСЭиФФЯ_О_01  ПК-4.2   \n",
       "\n",
       "                                                                                                     text  \n",
       "0     Способен осуществлять поиск, критический анализ и синтез информации, применять системный подход ...  \n",
       "1           Осуществляет поиск необходимой информации, опираясь на результаты анализа поставленной задачи  \n",
       "2     Разрабатывает варианты решения проблемной ситуации на основе критического анализа доступных исто...  \n",
       "3                                    Выбирает оптимальный вариант решения задачи, аргументируя свой выбор  \n",
       "4     Способен определять круг задач в рамках поставленной цели и выбирать оптимальные способы их реше...  \n",
       "...                                                                                                   ...  \n",
       "4130  Применяет адекватные стратегии перевода и техники компрессии при осуществлении устного профессио...  \n",
       "4131  Умеет использовать вербальные и невербальные средства языка в зависимости от\\nкультурологическог...  \n",
       "4132                                      Способен осуществлять организацию управления качеством перевода  \n",
       "4133  Умеет проводить экспертизу устного и письменного перевода, в том числе документации, и давать эк...  \n",
       "4134  Умеет обрабатывать и анализировать данные в специализированном программной обеспечении, применяе...  \n",
       "\n",
       "[4135 rows x 3 columns]"
      ]
     },
     "execution_count": 364,
     "metadata": {},
     "output_type": "execute_result"
    }
   ],
   "source": [
    "data"
   ]
  },
  {
   "cell_type": "markdown",
   "id": "94ae5951",
   "metadata": {},
   "source": [
    "#### Наивный Байес"
   ]
  },
  {
   "cell_type": "code",
   "execution_count": 365,
   "id": "f2dfd0d2",
   "metadata": {},
   "outputs": [
    {
     "data": {
      "text/plain": [
       "0.9904761904761905"
      ]
     },
     "execution_count": 365,
     "metadata": {},
     "output_type": "execute_result"
    }
   ],
   "source": [
    "from sklearn.naive_bayes import GaussianNB\n",
    "\n",
    "nb = GaussianNB()\n",
    "nb.fit(X_train, y_train)\n",
    "nb.score(X_test, y_test)"
   ]
  },
  {
   "cell_type": "markdown",
   "id": "5d296375",
   "metadata": {},
   "source": [
    "#### Логистическая регрессия"
   ]
  },
  {
   "cell_type": "code",
   "execution_count": 366,
   "id": "83949893",
   "metadata": {},
   "outputs": [
    {
     "data": {
      "text/plain": [
       "0.9523809523809523"
      ]
     },
     "execution_count": 366,
     "metadata": {},
     "output_type": "execute_result"
    }
   ],
   "source": [
    "from sklearn.linear_model import LogisticRegression\n",
    "\n",
    "logreg = LogisticRegression()\n",
    "logreg.fit(X_train, y_train)\n",
    "logreg.score(X_test, y_test)"
   ]
  },
  {
   "cell_type": "markdown",
   "id": "07cfaafb",
   "metadata": {},
   "source": [
    "#### Метод опорных векторов"
   ]
  },
  {
   "cell_type": "code",
   "execution_count": 367,
   "id": "19de92d1",
   "metadata": {},
   "outputs": [
    {
     "data": {
      "text/plain": [
       "0.9523809523809523"
      ]
     },
     "execution_count": 367,
     "metadata": {},
     "output_type": "execute_result"
    }
   ],
   "source": [
    "from sklearn import svm\n",
    "\n",
    "metodsvm = svm.SVC()\n",
    "metodsvm.fit(X_train, y_train)\n",
    "metodsvm.score(X_test, y_test)"
   ]
  },
  {
   "cell_type": "markdown",
   "id": "555e55a4",
   "metadata": {},
   "source": [
    "#### Градиентный бустинг"
   ]
  },
  {
   "cell_type": "code",
   "execution_count": 368,
   "id": "e2d42e6e",
   "metadata": {},
   "outputs": [
    {
     "data": {
      "text/plain": [
       "0.9523809523809523"
      ]
     },
     "execution_count": 368,
     "metadata": {},
     "output_type": "execute_result"
    }
   ],
   "source": [
    "from sklearn.ensemble import GradientBoostingClassifier\n",
    "\n",
    "boost = GradientBoostingClassifier()\n",
    "boost.fit(X_train, y_train)\n",
    "boost.score(X_test, y_test)"
   ]
  },
  {
   "cell_type": "markdown",
   "id": "a300ca1c",
   "metadata": {},
   "source": [
    "### Инференс моделей"
   ]
  },
  {
   "cell_type": "code",
   "execution_count": 369,
   "id": "19de6efa",
   "metadata": {},
   "outputs": [],
   "source": [
    "preprocessing = PreprocessingService(df=data, vectorizer=vectorizer)\n",
    "X = preprocessing.run()"
   ]
  },
  {
   "cell_type": "markdown",
   "id": "bbc040f1",
   "metadata": {},
   "source": [
    "#### Наивный Байес"
   ]
  },
  {
   "cell_type": "code",
   "execution_count": 370,
   "id": "bd547953",
   "metadata": {
    "scrolled": true
   },
   "outputs": [
    {
     "data": {
      "text/plain": [
       "0.0    2420\n",
       "1.0    1715\n",
       "dtype: int64"
      ]
     },
     "execution_count": 370,
     "metadata": {},
     "output_type": "execute_result"
    }
   ],
   "source": [
    "pd.Series(nb.predict(X)).value_counts()"
   ]
  },
  {
   "cell_type": "markdown",
   "id": "8189b1e2",
   "metadata": {},
   "source": [
    "#### Логистическая регрессия"
   ]
  },
  {
   "cell_type": "code",
   "execution_count": 371,
   "id": "d6960db0",
   "metadata": {
    "scrolled": false
   },
   "outputs": [
    {
     "data": {
      "text/plain": [
       "0.0    4133\n",
       "1.0       2\n",
       "dtype: int64"
      ]
     },
     "execution_count": 371,
     "metadata": {},
     "output_type": "execute_result"
    }
   ],
   "source": [
    "pd.Series(logreg.predict(X)).value_counts()"
   ]
  },
  {
   "cell_type": "markdown",
   "id": "58f535c9",
   "metadata": {},
   "source": [
    "#### Метод опорных векторов"
   ]
  },
  {
   "cell_type": "code",
   "execution_count": 372,
   "id": "7ebb89bb",
   "metadata": {},
   "outputs": [
    {
     "data": {
      "text/plain": [
       "0.0    4133\n",
       "1.0       2\n",
       "dtype: int64"
      ]
     },
     "execution_count": 372,
     "metadata": {},
     "output_type": "execute_result"
    }
   ],
   "source": [
    "pd.Series(metodsvm.predict(X)).value_counts()"
   ]
  },
  {
   "cell_type": "markdown",
   "id": "8f6f7e4f",
   "metadata": {},
   "source": [
    "#### Градиентный бустинг"
   ]
  },
  {
   "cell_type": "code",
   "execution_count": 373,
   "id": "985af880",
   "metadata": {},
   "outputs": [
    {
     "data": {
      "text/plain": [
       "0.0    4033\n",
       "1.0     102\n",
       "dtype: int64"
      ]
     },
     "execution_count": 373,
     "metadata": {},
     "output_type": "execute_result"
    }
   ],
   "source": [
    "pd.Series(boost.predict(X)).value_counts()"
   ]
  },
  {
   "cell_type": "markdown",
   "id": "e31b6c0d",
   "metadata": {},
   "source": [
    "**_Наиболее реальным по моим субъективным представлениям о соотношении цифровых и прочих компетенций является прогноз модели градиентного бустинга._**"
   ]
  },
  {
   "cell_type": "code",
   "execution_count": 374,
   "id": "a208af0a",
   "metadata": {},
   "outputs": [
    {
     "data": {
      "text/html": [
       "<div>\n",
       "<style scoped>\n",
       "    .dataframe tbody tr th:only-of-type {\n",
       "        vertical-align: middle;\n",
       "    }\n",
       "\n",
       "    .dataframe tbody tr th {\n",
       "        vertical-align: top;\n",
       "    }\n",
       "\n",
       "    .dataframe thead th {\n",
       "        text-align: right;\n",
       "    }\n",
       "</style>\n",
       "<table border=\"1\" class=\"dataframe\">\n",
       "  <thead>\n",
       "    <tr style=\"text-align: right;\">\n",
       "      <th></th>\n",
       "      <th>plan_name</th>\n",
       "      <th>kod</th>\n",
       "      <th>text</th>\n",
       "    </tr>\n",
       "  </thead>\n",
       "  <tbody>\n",
       "    <tr>\n",
       "      <th>0</th>\n",
       "      <td>01.03.02_2023_ПМ_ПМиИвЭиУ_ОФО</td>\n",
       "      <td>УК-1</td>\n",
       "      <td>Способен осуществлять поиск, критический анализ и синтез информации, применять системный подход ...</td>\n",
       "    </tr>\n",
       "    <tr>\n",
       "      <th>1</th>\n",
       "      <td>01.03.02_2023_ПМ_ПМиИвЭиУ_ОФО</td>\n",
       "      <td>УК-1.1</td>\n",
       "      <td>Осуществляет поиск необходимой информации, опираясь на результаты анализа поставленной задачи</td>\n",
       "    </tr>\n",
       "    <tr>\n",
       "      <th>2</th>\n",
       "      <td>01.03.02_2023_ПМ_ПМиИвЭиУ_ОФО</td>\n",
       "      <td>УК-1.2</td>\n",
       "      <td>Разрабатывает варианты решения проблемной ситуации на основе критического анализа доступных исто...</td>\n",
       "    </tr>\n",
       "    <tr>\n",
       "      <th>3</th>\n",
       "      <td>01.03.02_2023_ПМ_ПМиИвЭиУ_ОФО</td>\n",
       "      <td>УК-1.3</td>\n",
       "      <td>Выбирает оптимальный вариант решения задачи, аргументируя свой выбор</td>\n",
       "    </tr>\n",
       "    <tr>\n",
       "      <th>4</th>\n",
       "      <td>01.03.02_2023_ПМ_ПМиИвЭиУ_ОФО</td>\n",
       "      <td>УК-2</td>\n",
       "      <td>Способен определять круг задач в рамках поставленной цели и выбирать оптимальные способы их реше...</td>\n",
       "    </tr>\n",
       "    <tr>\n",
       "      <th>...</th>\n",
       "      <td>...</td>\n",
       "      <td>...</td>\n",
       "      <td>...</td>\n",
       "    </tr>\n",
       "    <tr>\n",
       "      <th>4130</th>\n",
       "      <td>45.03.02_2023_Л_ПиПвСЭиФФЯ_О_01</td>\n",
       "      <td>ПК-3.1</td>\n",
       "      <td>Применяет адекватные стратегии перевода и техники компрессии при осуществлении устного профессио...</td>\n",
       "    </tr>\n",
       "    <tr>\n",
       "      <th>4131</th>\n",
       "      <td>45.03.02_2023_Л_ПиПвСЭиФФЯ_О_01</td>\n",
       "      <td>ПК-3.2</td>\n",
       "      <td>Умеет использовать вербальные и невербальные средства языка в зависимости от\\nкультурологическог...</td>\n",
       "    </tr>\n",
       "    <tr>\n",
       "      <th>4132</th>\n",
       "      <td>45.03.02_2023_Л_ПиПвСЭиФФЯ_О_01</td>\n",
       "      <td>ПК-4</td>\n",
       "      <td>Способен осуществлять организацию управления качеством перевода</td>\n",
       "    </tr>\n",
       "    <tr>\n",
       "      <th>4133</th>\n",
       "      <td>45.03.02_2023_Л_ПиПвСЭиФФЯ_О_01</td>\n",
       "      <td>ПК-4.1</td>\n",
       "      <td>Умеет проводить экспертизу устного и письменного перевода, в том числе документации, и давать эк...</td>\n",
       "    </tr>\n",
       "    <tr>\n",
       "      <th>4134</th>\n",
       "      <td>45.03.02_2023_Л_ПиПвСЭиФФЯ_О_01</td>\n",
       "      <td>ПК-4.2</td>\n",
       "      <td>Умеет обрабатывать и анализировать данные в специализированном программной обеспечении, применяе...</td>\n",
       "    </tr>\n",
       "  </tbody>\n",
       "</table>\n",
       "<p>4135 rows × 3 columns</p>\n",
       "</div>"
      ],
      "text/plain": [
       "                            plan_name     kod  \\\n",
       "0       01.03.02_2023_ПМ_ПМиИвЭиУ_ОФО    УК-1   \n",
       "1       01.03.02_2023_ПМ_ПМиИвЭиУ_ОФО  УК-1.1   \n",
       "2       01.03.02_2023_ПМ_ПМиИвЭиУ_ОФО  УК-1.2   \n",
       "3       01.03.02_2023_ПМ_ПМиИвЭиУ_ОФО  УК-1.3   \n",
       "4       01.03.02_2023_ПМ_ПМиИвЭиУ_ОФО    УК-2   \n",
       "...                               ...     ...   \n",
       "4130  45.03.02_2023_Л_ПиПвСЭиФФЯ_О_01  ПК-3.1   \n",
       "4131  45.03.02_2023_Л_ПиПвСЭиФФЯ_О_01  ПК-3.2   \n",
       "4132  45.03.02_2023_Л_ПиПвСЭиФФЯ_О_01    ПК-4   \n",
       "4133  45.03.02_2023_Л_ПиПвСЭиФФЯ_О_01  ПК-4.1   \n",
       "4134  45.03.02_2023_Л_ПиПвСЭиФФЯ_О_01  ПК-4.2   \n",
       "\n",
       "                                                                                                     text  \n",
       "0     Способен осуществлять поиск, критический анализ и синтез информации, применять системный подход ...  \n",
       "1           Осуществляет поиск необходимой информации, опираясь на результаты анализа поставленной задачи  \n",
       "2     Разрабатывает варианты решения проблемной ситуации на основе критического анализа доступных исто...  \n",
       "3                                    Выбирает оптимальный вариант решения задачи, аргументируя свой выбор  \n",
       "4     Способен определять круг задач в рамках поставленной цели и выбирать оптимальные способы их реше...  \n",
       "...                                                                                                   ...  \n",
       "4130  Применяет адекватные стратегии перевода и техники компрессии при осуществлении устного профессио...  \n",
       "4131  Умеет использовать вербальные и невербальные средства языка в зависимости от\\nкультурологическог...  \n",
       "4132                                      Способен осуществлять организацию управления качеством перевода  \n",
       "4133  Умеет проводить экспертизу устного и письменного перевода, в том числе документации, и давать эк...  \n",
       "4134  Умеет обрабатывать и анализировать данные в специализированном программной обеспечении, применяе...  \n",
       "\n",
       "[4135 rows x 3 columns]"
      ]
     },
     "execution_count": 374,
     "metadata": {},
     "output_type": "execute_result"
    }
   ],
   "source": [
    "data"
   ]
  },
  {
   "cell_type": "code",
   "execution_count": 375,
   "id": "70116472",
   "metadata": {},
   "outputs": [],
   "source": [
    "data_predict = data.copy()\n",
    "data_predict['class'] = boost.predict(X)"
   ]
  },
  {
   "cell_type": "code",
   "execution_count": 376,
   "id": "e08259e7",
   "metadata": {},
   "outputs": [],
   "source": [
    "data_predict.to_excel('data_predict.xlsx')"
   ]
  },
  {
   "cell_type": "code",
   "execution_count": null,
   "id": "cd4c5f63",
   "metadata": {},
   "outputs": [],
   "source": []
  }
 ],
 "metadata": {
  "kernelspec": {
   "display_name": "Python 3 (ipykernel)",
   "language": "python",
   "name": "python3"
  },
  "language_info": {
   "codemirror_mode": {
    "name": "ipython",
    "version": 3
   },
   "file_extension": ".py",
   "mimetype": "text/x-python",
   "name": "python",
   "nbconvert_exporter": "python",
   "pygments_lexer": "ipython3",
   "version": "3.9.12"
  }
 },
 "nbformat": 4,
 "nbformat_minor": 5
}
